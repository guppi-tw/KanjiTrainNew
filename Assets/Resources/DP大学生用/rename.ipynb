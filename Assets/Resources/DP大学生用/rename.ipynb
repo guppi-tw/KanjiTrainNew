{
 "cells": [
  {
   "cell_type": "code",
   "execution_count": 1,
   "metadata": {},
   "outputs": [
    {
     "data": {
      "text/plain": [
       "['.\\\\1_蛞_0.jpg',\n",
       " '.\\\\1_蛞_1.jpg',\n",
       " '.\\\\1_蛞_2.jpg',\n",
       " '.\\\\1_蛞_3.jpg',\n",
       " '.\\\\1_蛞_9.jpg',\n",
       " '.\\\\2_齶_0.jpg',\n",
       " '.\\\\2_齶_1.jpg',\n",
       " '.\\\\2_齶_2.jpg',\n",
       " '.\\\\2_齶_3.jpg',\n",
       " '.\\\\2_齶_9.jpg',\n",
       " '.\\\\3_櫚_0.jpg',\n",
       " '.\\\\3_櫚_1.jpg',\n",
       " '.\\\\3_櫚_2.jpg',\n",
       " '.\\\\3_櫚_3.jpg',\n",
       " '.\\\\3_櫚_9.jpg',\n",
       " '.\\\\4_攣_0.jpg',\n",
       " '.\\\\4_攣_1.jpg',\n",
       " '.\\\\4_攣_2.jpg',\n",
       " '.\\\\4_攣_3.jpg',\n",
       " '.\\\\4_攣_9.jpg',\n",
       " '.\\\\5_禊_0.jpg',\n",
       " '.\\\\5_禊_1.jpg',\n",
       " '.\\\\5_禊_2.jpg',\n",
       " '.\\\\5_禊_3.jpg',\n",
       " '.\\\\5_禊_9.jpg']"
      ]
     },
     "execution_count": 1,
     "metadata": {},
     "output_type": "execute_result"
    }
   ],
   "source": [
    "import glob\n",
    "\n",
    "files = glob.glob(\"./*.jpg\")\n",
    "files"
   ]
  },
  {
   "cell_type": "code",
   "execution_count": 19,
   "metadata": {},
   "outputs": [],
   "source": [
    "import os\n",
    "\n",
    "for i, file in enumerate(files, start=1):\n",
    "\n",
    "    filename = file\n",
    "    filename_sp = filename.split(\"_\")\n",
    "    filename_sp[0] = filename_sp[0][:2] +  str(int(filename_sp[0][-1]) + 60) \n",
    "    \n",
    "    #print(\"_\".join(filename_sp).replace(\".\\\\\", \"\"))\n",
    "\n",
    "    os.rename(file, \"_\".join(filename_sp).replace(\".\\\\\", \"\"))\n",
    "    #print(i,kanji_kinds,file)\n",
    "\n"
   ]
  },
  {
   "cell_type": "code",
   "execution_count": 32,
   "metadata": {},
   "outputs": [],
   "source": []
  },
  {
   "cell_type": "code",
   "execution_count": null,
   "metadata": {},
   "outputs": [],
   "source": []
  }
 ],
 "metadata": {
  "kernelspec": {
   "display_name": "Python 3.9.7 ('base')",
   "language": "python",
   "name": "python3"
  },
  "language_info": {
   "codemirror_mode": {
    "name": "ipython",
    "version": 3
   },
   "file_extension": ".py",
   "mimetype": "text/x-python",
   "name": "python",
   "nbconvert_exporter": "python",
   "pygments_lexer": "ipython3",
   "version": "3.9.7"
  },
  "orig_nbformat": 4,
  "vscode": {
   "interpreter": {
    "hash": "ad2bdc8ecc057115af97d19610ffacc2b4e99fae6737bb82f5d7fb13d2f2c186"
   }
  }
 },
 "nbformat": 4,
 "nbformat_minor": 2
}
